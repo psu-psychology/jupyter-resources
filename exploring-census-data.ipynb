{
 "cells": [
  {
   "cell_type": "markdown",
   "metadata": {},
   "source": [
    "# PSY 525.001 Spring 2020"
   ]
  },
  {
   "cell_type": "markdown",
   "metadata": {},
   "source": [
    "## Purpose"
   ]
  },
  {
   "cell_type": "markdown",
   "metadata": {},
   "source": [
    "This notebook documents Rick Gilmore's explorations U.S. Census data using a Jupyter notebook. I'm using the Jupyter notebook hosted here: https://github.com/jtleider/censusdata/blob/master/docs/notebooks/example1.ipynb for significant support and inspiration."
   ]
  },
  {
   "cell_type": "markdown",
   "metadata": {},
   "source": [
    "## Preliminaries "
   ]
  },
  {
   "cell_type": "markdown",
   "metadata": {},
   "source": [
    "### Install the dataset"
   ]
  },
  {
   "cell_type": "code",
   "execution_count": 5,
   "metadata": {},
   "outputs": [],
   "source": [
    "import sys"
   ]
  },
  {
   "cell_type": "markdown",
   "metadata": {},
   "source": [
    "Now that we have imported the `sys` package, we can install it into the Python executable that our notebook is using."
   ]
  },
  {
   "cell_type": "code",
   "execution_count": 6,
   "metadata": {},
   "outputs": [
    {
     "name": "stdout",
     "output_type": "stream",
     "text": [
      "Collecting censusdata\n",
      "  Using cached https://files.pythonhosted.org/packages/2e/80/09af724ad019b202602cbc47a74737b9609971e3db69e163213732f2f724/CensusData-1.7.tar.gz\n",
      "Requirement already satisfied: pandas in /Users/rog1/.pyenv/versions/3.7.6/envs/venv37/lib/python3.7/site-packages (from censusdata) (1.0.1)\n",
      "Collecting requests (from censusdata)\n",
      "  Using cached https://files.pythonhosted.org/packages/1a/70/1935c770cb3be6e3a8b78ced23d7e0f3b187f5cbfab4749523ed65d7c9b1/requests-2.23.0-py2.py3-none-any.whl\n",
      "Requirement already satisfied: python-dateutil>=2.6.1 in /Users/rog1/.pyenv/versions/3.7.6/envs/venv37/lib/python3.7/site-packages (from pandas->censusdata) (2.8.1)\n",
      "Requirement already satisfied: numpy>=1.13.3 in /Users/rog1/.pyenv/versions/3.7.6/envs/venv37/lib/python3.7/site-packages (from pandas->censusdata) (1.18.1)\n",
      "Requirement already satisfied: pytz>=2017.2 in /Users/rog1/.pyenv/versions/3.7.6/envs/venv37/lib/python3.7/site-packages (from pandas->censusdata) (2019.3)\n",
      "Collecting urllib3!=1.25.0,!=1.25.1,<1.26,>=1.21.1 (from requests->censusdata)\n",
      "  Using cached https://files.pythonhosted.org/packages/e8/74/6e4f91745020f967d09332bb2b8b9b10090957334692eb88ea4afe91b77f/urllib3-1.25.8-py2.py3-none-any.whl\n",
      "Collecting idna<3,>=2.5 (from requests->censusdata)\n",
      "  Using cached https://files.pythonhosted.org/packages/89/e3/afebe61c546d18fb1709a61bee788254b40e736cff7271c7de5de2dc4128/idna-2.9-py2.py3-none-any.whl\n",
      "Collecting certifi>=2017.4.17 (from requests->censusdata)\n",
      "  Using cached https://files.pythonhosted.org/packages/b9/63/df50cac98ea0d5b006c55a399c3bf1db9da7b5a24de7890bc9cfd5dd9e99/certifi-2019.11.28-py2.py3-none-any.whl\n",
      "Collecting chardet<4,>=3.0.2 (from requests->censusdata)\n",
      "  Using cached https://files.pythonhosted.org/packages/bc/a9/01ffebfb562e4274b6487b4bb1ddec7ca55ec7510b22e4c51f14098443b8/chardet-3.0.4-py2.py3-none-any.whl\n",
      "Requirement already satisfied: six>=1.5 in /Users/rog1/.pyenv/versions/3.7.6/envs/venv37/lib/python3.7/site-packages (from python-dateutil>=2.6.1->pandas->censusdata) (1.14.0)\n",
      "Installing collected packages: urllib3, idna, certifi, chardet, requests, censusdata\n",
      "\u001b[33m  WARNING: The script chardetect is installed in '/Users/rog1/.local/bin' which is not on PATH.\n",
      "  Consider adding this directory to PATH or, if you prefer to suppress this warning, use --no-warn-script-location.\u001b[0m\n",
      "  Running setup.py install for censusdata ... \u001b[?25ldone\n",
      "\u001b[?25hSuccessfully installed censusdata-1.7 certifi-2019.11.28 chardet-3.0.4 idna-2.9 requests-2.23.0 urllib3-1.25.8\n",
      "\u001b[33mWARNING: You are using pip version 19.2.3, however version 20.0.2 is available.\n",
      "You should consider upgrading via the 'pip install --upgrade pip' command.\u001b[0m\n"
     ]
    }
   ],
   "source": [
    "!$sys.executable -m pip install --user censusdata --upgrade"
   ]
  },
  {
   "cell_type": "markdown",
   "metadata": {},
   "source": [
    "**Note:** This did not work for me, probably because I am using `pyenv` and a virtual environment. When I installed the `censusdata` package from the command line using `pip install censusdata`, and restarted the notebook, things worked."
   ]
  },
  {
   "cell_type": "code",
   "execution_count": 1,
   "metadata": {},
   "outputs": [],
   "source": [
    "import censusdata"
   ]
  },
  {
   "cell_type": "markdown",
   "metadata": {},
   "source": [
    "### Import packages and set options"
   ]
  },
  {
   "cell_type": "code",
   "execution_count": 2,
   "metadata": {},
   "outputs": [],
   "source": [
    "import pandas as pd\n",
    "import censusdata\n",
    "pd.set_option('display.expand_frame_repr', False)\n",
    "pd.set_option('display.precision', 2)"
   ]
  },
  {
   "cell_type": "markdown",
   "metadata": {},
   "source": [
    "## View the data"
   ]
  },
  {
   "cell_type": "code",
   "execution_count": 3,
   "metadata": {},
   "outputs": [
    {
     "data": {
      "text/plain": [
       "[('B23024_023E',\n",
       "  'B23024.  Poverty Status in the Past 12 Months by Disability Status by Employment Status for the Population 20 to 64 Years',\n",
       "  'Income in the past 12 months at or above poverty level:!!With a disability:!!In labor force:!!Civilian:!!Unemployed'),\n",
       " ('B23024_023M',\n",
       "  'B23024.  Poverty Status in the Past 12 Months by Disability Status by Employment Status for the Population 20 to 64 Years',\n",
       "  'Margin of Error for!!Income in the past 12 months at or above poverty level:!!With a disability:!!In labor force:!!Civilian:!!Unemployed'),\n",
       " ('B23024_030E',\n",
       "  'B23024.  Poverty Status in the Past 12 Months by Disability Status by Employment Status for the Population 20 to 64 Years',\n",
       "  'Income in the past 12 months at or above poverty level:!!No disability:!!In labor force:!!Civilian:!!Unemployed'),\n",
       " ('B23024_030M',\n",
       "  'B23024.  Poverty Status in the Past 12 Months by Disability Status by Employment Status for the Population 20 to 64 Years',\n",
       "  'Margin of Error for!!Income in the past 12 months at or above poverty level:!!No disability:!!In labor force:!!Civilian:!!Unemployed'),\n",
       " ('B23025_005E',\n",
       "  'B23025.  Employment Status for the Population 16 Years and Over',\n",
       "  'In labor force:!!Civilian labor force:!!Unemployed'),\n",
       " ('B23025_005M',\n",
       "  'B23025.  Employment Status for the Population 16 Years and Over',\n",
       "  'Margin Of Error For!!In labor force:!!Civilian labor force:!!Unemployed'),\n",
       " ('B27011_014E',\n",
       "  'B27011.  Health Insurance Coverage Status and Type by Employment Status by Age',\n",
       "  'In labor force:!!Unemployed:'),\n",
       " ('B27011_014M',\n",
       "  'B27011.  Health Insurance Coverage Status and Type by Employment Status by Age',\n",
       "  'Margin of Error for!!In labor force:!!Unemployed:'),\n",
       " ('B27011_015E',\n",
       "  'B27011.  Health Insurance Coverage Status and Type by Employment Status by Age',\n",
       "  'In labor force:!!Unemployed:!!18 to 64 years:'),\n",
       " ('B27011_015M',\n",
       "  'B27011.  Health Insurance Coverage Status and Type by Employment Status by Age',\n",
       "  'Margin of Error for!!In labor force:!!Unemployed:!!18 to 64 years:')]"
      ]
     },
     "execution_count": 3,
     "metadata": {},
     "output_type": "execute_result"
    }
   ],
   "source": [
    "censusdata.search('acs5', 2015, 'label', 'unemploy')[160:170]"
   ]
  },
  {
   "cell_type": "markdown",
   "metadata": {},
   "source": [
    "Let's try to focus on Centre County, Pennsylvania. First, we need to find the FIPS codes."
   ]
  },
  {
   "cell_type": "code",
   "execution_count": 4,
   "metadata": {},
   "outputs": [
    {
     "data": {
      "text/plain": [
       "{'Alabama': censusgeo((('state', '01'),)),\n",
       " 'Alaska': censusgeo((('state', '02'),)),\n",
       " 'Arizona': censusgeo((('state', '04'),)),\n",
       " 'Arkansas': censusgeo((('state', '05'),)),\n",
       " 'California': censusgeo((('state', '06'),)),\n",
       " 'Colorado': censusgeo((('state', '08'),)),\n",
       " 'Connecticut': censusgeo((('state', '09'),)),\n",
       " 'Delaware': censusgeo((('state', '10'),)),\n",
       " 'District of Columbia': censusgeo((('state', '11'),)),\n",
       " 'Florida': censusgeo((('state', '12'),)),\n",
       " 'Georgia': censusgeo((('state', '13'),)),\n",
       " 'Hawaii': censusgeo((('state', '15'),)),\n",
       " 'Idaho': censusgeo((('state', '16'),)),\n",
       " 'Illinois': censusgeo((('state', '17'),)),\n",
       " 'Indiana': censusgeo((('state', '18'),)),\n",
       " 'Iowa': censusgeo((('state', '19'),)),\n",
       " 'Kansas': censusgeo((('state', '20'),)),\n",
       " 'Kentucky': censusgeo((('state', '21'),)),\n",
       " 'Louisiana': censusgeo((('state', '22'),)),\n",
       " 'Maine': censusgeo((('state', '23'),)),\n",
       " 'Maryland': censusgeo((('state', '24'),)),\n",
       " 'Massachusetts': censusgeo((('state', '25'),)),\n",
       " 'Michigan': censusgeo((('state', '26'),)),\n",
       " 'Minnesota': censusgeo((('state', '27'),)),\n",
       " 'Mississippi': censusgeo((('state', '28'),)),\n",
       " 'Missouri': censusgeo((('state', '29'),)),\n",
       " 'Montana': censusgeo((('state', '30'),)),\n",
       " 'Nebraska': censusgeo((('state', '31'),)),\n",
       " 'Nevada': censusgeo((('state', '32'),)),\n",
       " 'New Hampshire': censusgeo((('state', '33'),)),\n",
       " 'New Jersey': censusgeo((('state', '34'),)),\n",
       " 'New Mexico': censusgeo((('state', '35'),)),\n",
       " 'New York': censusgeo((('state', '36'),)),\n",
       " 'North Carolina': censusgeo((('state', '37'),)),\n",
       " 'North Dakota': censusgeo((('state', '38'),)),\n",
       " 'Ohio': censusgeo((('state', '39'),)),\n",
       " 'Oklahoma': censusgeo((('state', '40'),)),\n",
       " 'Oregon': censusgeo((('state', '41'),)),\n",
       " 'Pennsylvania': censusgeo((('state', '42'),)),\n",
       " 'Rhode Island': censusgeo((('state', '44'),)),\n",
       " 'South Carolina': censusgeo((('state', '45'),)),\n",
       " 'South Dakota': censusgeo((('state', '46'),)),\n",
       " 'Tennessee': censusgeo((('state', '47'),)),\n",
       " 'Texas': censusgeo((('state', '48'),)),\n",
       " 'Utah': censusgeo((('state', '49'),)),\n",
       " 'Vermont': censusgeo((('state', '50'),)),\n",
       " 'Virginia': censusgeo((('state', '51'),)),\n",
       " 'Washington': censusgeo((('state', '53'),)),\n",
       " 'West Virginia': censusgeo((('state', '54'),)),\n",
       " 'Wisconsin': censusgeo((('state', '55'),)),\n",
       " 'Wyoming': censusgeo((('state', '56'),)),\n",
       " 'Puerto Rico': censusgeo((('state', '72'),))}"
      ]
     },
     "execution_count": 4,
     "metadata": {},
     "output_type": "execute_result"
    }
   ],
   "source": [
    "censusdata.geographies(censusdata.censusgeo([('state', '*')]), 'acs5', 2015)"
   ]
  },
  {
   "cell_type": "markdown",
   "metadata": {},
   "source": [
    "So, Pennsylvania is state 42. Next, we'll list the counties in Pennsylvania."
   ]
  },
  {
   "cell_type": "code",
   "execution_count": 5,
   "metadata": {},
   "outputs": [
    {
     "data": {
      "text/plain": [
       "{'Adams County, Pennsylvania': censusgeo((('state', '42'), ('county', '001'))),\n",
       " 'Allegheny County, Pennsylvania': censusgeo((('state', '42'), ('county', '003'))),\n",
       " 'Armstrong County, Pennsylvania': censusgeo((('state', '42'), ('county', '005'))),\n",
       " 'Beaver County, Pennsylvania': censusgeo((('state', '42'), ('county', '007'))),\n",
       " 'Bedford County, Pennsylvania': censusgeo((('state', '42'), ('county', '009'))),\n",
       " 'Berks County, Pennsylvania': censusgeo((('state', '42'), ('county', '011'))),\n",
       " 'Blair County, Pennsylvania': censusgeo((('state', '42'), ('county', '013'))),\n",
       " 'Bradford County, Pennsylvania': censusgeo((('state', '42'), ('county', '015'))),\n",
       " 'Bucks County, Pennsylvania': censusgeo((('state', '42'), ('county', '017'))),\n",
       " 'Butler County, Pennsylvania': censusgeo((('state', '42'), ('county', '019'))),\n",
       " 'Cambria County, Pennsylvania': censusgeo((('state', '42'), ('county', '021'))),\n",
       " 'Cameron County, Pennsylvania': censusgeo((('state', '42'), ('county', '023'))),\n",
       " 'Carbon County, Pennsylvania': censusgeo((('state', '42'), ('county', '025'))),\n",
       " 'Centre County, Pennsylvania': censusgeo((('state', '42'), ('county', '027'))),\n",
       " 'Chester County, Pennsylvania': censusgeo((('state', '42'), ('county', '029'))),\n",
       " 'Clarion County, Pennsylvania': censusgeo((('state', '42'), ('county', '031'))),\n",
       " 'Clearfield County, Pennsylvania': censusgeo((('state', '42'), ('county', '033'))),\n",
       " 'Clinton County, Pennsylvania': censusgeo((('state', '42'), ('county', '035'))),\n",
       " 'Columbia County, Pennsylvania': censusgeo((('state', '42'), ('county', '037'))),\n",
       " 'Crawford County, Pennsylvania': censusgeo((('state', '42'), ('county', '039'))),\n",
       " 'Cumberland County, Pennsylvania': censusgeo((('state', '42'), ('county', '041'))),\n",
       " 'Dauphin County, Pennsylvania': censusgeo((('state', '42'), ('county', '043'))),\n",
       " 'Delaware County, Pennsylvania': censusgeo((('state', '42'), ('county', '045'))),\n",
       " 'Elk County, Pennsylvania': censusgeo((('state', '42'), ('county', '047'))),\n",
       " 'Erie County, Pennsylvania': censusgeo((('state', '42'), ('county', '049'))),\n",
       " 'Fayette County, Pennsylvania': censusgeo((('state', '42'), ('county', '051'))),\n",
       " 'Forest County, Pennsylvania': censusgeo((('state', '42'), ('county', '053'))),\n",
       " 'Franklin County, Pennsylvania': censusgeo((('state', '42'), ('county', '055'))),\n",
       " 'Fulton County, Pennsylvania': censusgeo((('state', '42'), ('county', '057'))),\n",
       " 'Greene County, Pennsylvania': censusgeo((('state', '42'), ('county', '059'))),\n",
       " 'Huntingdon County, Pennsylvania': censusgeo((('state', '42'), ('county', '061'))),\n",
       " 'Indiana County, Pennsylvania': censusgeo((('state', '42'), ('county', '063'))),\n",
       " 'Jefferson County, Pennsylvania': censusgeo((('state', '42'), ('county', '065'))),\n",
       " 'Juniata County, Pennsylvania': censusgeo((('state', '42'), ('county', '067'))),\n",
       " 'Lackawanna County, Pennsylvania': censusgeo((('state', '42'), ('county', '069'))),\n",
       " 'Lancaster County, Pennsylvania': censusgeo((('state', '42'), ('county', '071'))),\n",
       " 'Lawrence County, Pennsylvania': censusgeo((('state', '42'), ('county', '073'))),\n",
       " 'Lebanon County, Pennsylvania': censusgeo((('state', '42'), ('county', '075'))),\n",
       " 'Lehigh County, Pennsylvania': censusgeo((('state', '42'), ('county', '077'))),\n",
       " 'Luzerne County, Pennsylvania': censusgeo((('state', '42'), ('county', '079'))),\n",
       " 'Lycoming County, Pennsylvania': censusgeo((('state', '42'), ('county', '081'))),\n",
       " 'McKean County, Pennsylvania': censusgeo((('state', '42'), ('county', '083'))),\n",
       " 'Mercer County, Pennsylvania': censusgeo((('state', '42'), ('county', '085'))),\n",
       " 'Mifflin County, Pennsylvania': censusgeo((('state', '42'), ('county', '087'))),\n",
       " 'Monroe County, Pennsylvania': censusgeo((('state', '42'), ('county', '089'))),\n",
       " 'Montgomery County, Pennsylvania': censusgeo((('state', '42'), ('county', '091'))),\n",
       " 'Montour County, Pennsylvania': censusgeo((('state', '42'), ('county', '093'))),\n",
       " 'Northampton County, Pennsylvania': censusgeo((('state', '42'), ('county', '095'))),\n",
       " 'Northumberland County, Pennsylvania': censusgeo((('state', '42'), ('county', '097'))),\n",
       " 'Perry County, Pennsylvania': censusgeo((('state', '42'), ('county', '099'))),\n",
       " 'Philadelphia County, Pennsylvania': censusgeo((('state', '42'), ('county', '101'))),\n",
       " 'Pike County, Pennsylvania': censusgeo((('state', '42'), ('county', '103'))),\n",
       " 'Potter County, Pennsylvania': censusgeo((('state', '42'), ('county', '105'))),\n",
       " 'Schuylkill County, Pennsylvania': censusgeo((('state', '42'), ('county', '107'))),\n",
       " 'Snyder County, Pennsylvania': censusgeo((('state', '42'), ('county', '109'))),\n",
       " 'Somerset County, Pennsylvania': censusgeo((('state', '42'), ('county', '111'))),\n",
       " 'Sullivan County, Pennsylvania': censusgeo((('state', '42'), ('county', '113'))),\n",
       " 'Susquehanna County, Pennsylvania': censusgeo((('state', '42'), ('county', '115'))),\n",
       " 'Tioga County, Pennsylvania': censusgeo((('state', '42'), ('county', '117'))),\n",
       " 'Union County, Pennsylvania': censusgeo((('state', '42'), ('county', '119'))),\n",
       " 'Venango County, Pennsylvania': censusgeo((('state', '42'), ('county', '121'))),\n",
       " 'Warren County, Pennsylvania': censusgeo((('state', '42'), ('county', '123'))),\n",
       " 'Washington County, Pennsylvania': censusgeo((('state', '42'), ('county', '125'))),\n",
       " 'Wayne County, Pennsylvania': censusgeo((('state', '42'), ('county', '127'))),\n",
       " 'Westmoreland County, Pennsylvania': censusgeo((('state', '42'), ('county', '129'))),\n",
       " 'Wyoming County, Pennsylvania': censusgeo((('state', '42'), ('county', '131'))),\n",
       " 'York County, Pennsylvania': censusgeo((('state', '42'), ('county', '133')))}"
      ]
     },
     "execution_count": 5,
     "metadata": {},
     "output_type": "execute_result"
    }
   ],
   "source": [
    "censusdata.geographies(censusdata.censusgeo([('state', '42'), ('county', '*')]), 'acs5', 2015)"
   ]
  },
  {
   "cell_type": "markdown",
   "metadata": {},
   "source": [
    "So, we're county 027. The zero matters. Now, we'll download a set of tables for state 42, county 027 and all of the block groups."
   ]
  },
  {
   "cell_type": "code",
   "execution_count": 7,
   "metadata": {},
   "outputs": [
    {
     "data": {
      "text/html": [
       "<div>\n",
       "<style scoped>\n",
       "    .dataframe tbody tr th:only-of-type {\n",
       "        vertical-align: middle;\n",
       "    }\n",
       "\n",
       "    .dataframe tbody tr th {\n",
       "        vertical-align: top;\n",
       "    }\n",
       "\n",
       "    .dataframe thead th {\n",
       "        text-align: right;\n",
       "    }\n",
       "</style>\n",
       "<table border=\"1\" class=\"dataframe\">\n",
       "  <thead>\n",
       "    <tr style=\"text-align: right;\">\n",
       "      <th></th>\n",
       "      <th>percent_unemployed</th>\n",
       "      <th>percent_nohs</th>\n",
       "    </tr>\n",
       "  </thead>\n",
       "  <tbody>\n",
       "    <tr>\n",
       "      <th>count</th>\n",
       "      <td>99.00</td>\n",
       "      <td>96.00</td>\n",
       "    </tr>\n",
       "    <tr>\n",
       "      <th>mean</th>\n",
       "      <td>5.65</td>\n",
       "      <td>6.71</td>\n",
       "    </tr>\n",
       "    <tr>\n",
       "      <th>std</th>\n",
       "      <td>5.37</td>\n",
       "      <td>6.46</td>\n",
       "    </tr>\n",
       "    <tr>\n",
       "      <th>min</th>\n",
       "      <td>0.00</td>\n",
       "      <td>0.00</td>\n",
       "    </tr>\n",
       "    <tr>\n",
       "      <th>25%</th>\n",
       "      <td>2.13</td>\n",
       "      <td>1.09</td>\n",
       "    </tr>\n",
       "    <tr>\n",
       "      <th>50%</th>\n",
       "      <td>4.23</td>\n",
       "      <td>5.35</td>\n",
       "    </tr>\n",
       "    <tr>\n",
       "      <th>75%</th>\n",
       "      <td>7.25</td>\n",
       "      <td>10.65</td>\n",
       "    </tr>\n",
       "    <tr>\n",
       "      <th>max</th>\n",
       "      <td>26.27</td>\n",
       "      <td>30.11</td>\n",
       "    </tr>\n",
       "  </tbody>\n",
       "</table>\n",
       "</div>"
      ],
      "text/plain": [
       "       percent_unemployed  percent_nohs\n",
       "count               99.00         96.00\n",
       "mean                 5.65          6.71\n",
       "std                  5.37          6.46\n",
       "min                  0.00          0.00\n",
       "25%                  2.13          1.09\n",
       "50%                  4.23          5.35\n",
       "75%                  7.25         10.65\n",
       "max                 26.27         30.11"
      ]
     },
     "execution_count": 7,
     "metadata": {},
     "output_type": "execute_result"
    }
   ],
   "source": [
    "centreco_pa = censusdata.download('acs5', 2015,\n",
    "                             censusdata.censusgeo([('state', '42'), ('county', '027'), ('block group', '*')]),\n",
    "                             ['B23025_003E', 'B23025_005E', 'B15003_001E', 'B15003_002E', 'B15003_003E',\n",
    "                              'B15003_004E', 'B15003_005E', 'B15003_006E', 'B15003_007E', 'B15003_008E',\n",
    "                              'B15003_009E', 'B15003_010E', 'B15003_011E', 'B15003_012E', 'B15003_013E',\n",
    "                              'B15003_014E', 'B15003_015E', 'B15003_016E'])\n",
    "\n",
    "# Calculate % unemployed\n",
    "centreco_pa['percent_unemployed'] = centreco_pa.B23025_005E / centreco_pa.B23025_003E * 100\n",
    "\n",
    "# Calculate % no HS education\n",
    "centreco_pa['percent_nohs'] = (centreco_pa.B15003_002E + centreco_pa.B15003_003E + centreco_pa.B15003_004E\n",
    "                          + centreco_pa.B15003_005E + centreco_pa.B15003_006E + centreco_pa.B15003_007E + centreco_pa.B15003_008E\n",
    "                          + centreco_pa.B15003_009E + centreco_pa.B15003_010E + centreco_pa.B15003_011E + centreco_pa.B15003_012E\n",
    "                          + centreco_pa.B15003_013E + centreco_pa.B15003_014E +\n",
    "                          centreco_pa.B15003_015E + centreco_pa.B15003_016E) / centreco_pa.B15003_001E * 100\n",
    "\n",
    "centreco_pa_ue_nohs = centreco_pa[['percent_unemployed', 'percent_nohs']]\n",
    "centreco_pa_ue_nohs.describe()"
   ]
  },
  {
   "cell_type": "markdown",
   "metadata": {},
   "source": [
    "So, of there are 99 block groups reporting unemployment data and 96 that report having residents with no HS education."
   ]
  },
  {
   "cell_type": "code",
   "execution_count": null,
   "metadata": {},
   "outputs": [],
   "source": []
  }
 ],
 "metadata": {
  "kernelspec": {
   "display_name": "Python 3",
   "language": "python",
   "name": "python3"
  },
  "language_info": {
   "codemirror_mode": {
    "name": "ipython",
    "version": 3
   },
   "file_extension": ".py",
   "mimetype": "text/x-python",
   "name": "python",
   "nbconvert_exporter": "python",
   "pygments_lexer": "ipython3",
   "version": "3.7.6"
  }
 },
 "nbformat": 4,
 "nbformat_minor": 2
}
